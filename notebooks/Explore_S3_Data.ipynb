{
 "cells": [
  {
   "cell_type": "code",
   "execution_count": null,
   "metadata": {},
   "outputs": [],
   "source": [
    "import pandas as pd\n",
    "import boto3\n",
    "import json\n",
    "import psycopg2\n",
    "import configparser"
   ]
  },
  {
   "cell_type": "markdown",
   "metadata": {},
   "source": [
    "### Print list of files in the Prefix location"
   ]
  },
  {
   "cell_type": "code",
   "execution_count": null,
   "metadata": {},
   "outputs": [],
   "source": [
    "config = configparser.ConfigParser()\n",
    "config.read_file(open('/home/ericr/.aws/credentials.cfg'))\n",
    "KEY                    = config.get('AWS','aws_access_key_id')\n",
    "SECRET                 = config.get('AWS','aws_secret_access_key')\n",
    "\n",
    "s3 = boto3.resource('s3',\n",
    "                     region_name=\"us-west-2\",\n",
    "                     aws_access_key_id=KEY,\n",
    "                     aws_secret_access_key=SECRET)\n",
    "\n",
    "bucket = s3.Bucket(\"udacity-dend\")\n",
    "# Print out list of files\n",
    "for obj in bucket.objects.filter(Prefix=\"log_data\"):\n",
    "    print(obj)"
   ]
  },
  {
   "cell_type": "markdown",
   "metadata": {},
   "source": [
    "### Count how many files in the Prefix location"
   ]
  },
  {
   "cell_type": "code",
   "execution_count": null,
   "metadata": {},
   "outputs": [],
   "source": [
    "# Count how many files\n",
    "size = sum(1 for _ in bucket.objects.filter(Prefix=\"log_data\")) - 1\n",
    "print(\"{} files in this list\".format(size))"
   ]
  },
  {
   "cell_type": "markdown",
   "metadata": {},
   "source": [
    "### Extract the contents of the Log JSON Path file"
   ]
  },
  {
   "cell_type": "code",
   "execution_count": null,
   "metadata": {},
   "outputs": [],
   "source": [
    "content_object = s3.Object('udacity-dend', 'log_json_path.json')\n",
    "file_content = content_object.get()['Body'].read().decode('utf-8')\n",
    "json_content = json.loads(file_content)\n",
    "json_content"
   ]
  },
  {
   "cell_type": "markdown",
   "metadata": {},
   "source": [
    "### Save as text file"
   ]
  },
  {
   "cell_type": "code",
   "execution_count": null,
   "metadata": {},
   "outputs": [],
   "source": [
    "if not os.path.exists('JSON_path.txt'):\n",
    "    with open('JSON_path.txt', 'w'): pass\n",
    "text_file = open(\"JSON_path.txt\", \"w\")\n",
    "text_file.write(str(json_content))\n",
    "text_file.close()"
   ]
  }
 ],
 "metadata": {
  "kernelspec": {
   "display_name": "Python 3",
   "language": "python",
   "name": "python3"
  },
  "language_info": {
   "codemirror_mode": {
    "name": "ipython",
    "version": 3
   },
   "file_extension": ".py",
   "mimetype": "text/x-python",
   "name": "python",
   "nbconvert_exporter": "python",
   "pygments_lexer": "ipython3",
   "version": "3.7.6"
  }
 },
 "nbformat": 4,
 "nbformat_minor": 4
}
