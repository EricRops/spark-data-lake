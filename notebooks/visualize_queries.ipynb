{
 "cells": [
  {
   "cell_type": "markdown",
   "metadata": {},
   "source": [
    "# Visualize the query results that the Spark job produced"
   ]
  },
  {
   "cell_type": "code",
   "execution_count": null,
   "metadata": {},
   "outputs": [],
   "source": [
    "import os\n",
    "import pandas as pd\n",
    "import matplotlib.pyplot as plt\n",
    "import seaborn as sns"
   ]
  },
  {
   "cell_type": "markdown",
   "metadata": {},
   "source": [
    "### Explore the solution dataset (the songplays table) where the artist and song columns are complete"
   ]
  },
  {
   "cell_type": "code",
   "execution_count": null,
   "metadata": {},
   "outputs": [],
   "source": [
    "results = pd.read_csv('../queries/songplays_full_data.csv')\n",
    "results"
   ]
  },
  {
   "cell_type": "markdown",
   "metadata": {},
   "source": [
    "There are **319 rows** in the songplays table with complete information (ie. 319 events where a song from the events data matches a song from the songs data). This should be sufficient for some basic analysis."
   ]
  },
  {
   "cell_type": "markdown",
   "metadata": {},
   "source": [
    "### What are the top artists from the sparkify data?"
   ]
  },
  {
   "cell_type": "code",
   "execution_count": null,
   "metadata": {},
   "outputs": [],
   "source": [
    "results = pd.read_csv('../queries/popular_artists.csv')\n",
    "# Plot results as a Seaborn barplot (2 subplots)\n",
    "fig, axes = plt.subplots(1, 1)\n",
    "#fig.subplots_adjust(hspace=1)\n",
    "sns.set(style=\"whitegrid\")\n",
    "sns.set(rc={'figure.figsize':(15,5)})\n",
    "sns.set(font_scale = 2)\n",
    "plt.rcParams[\"xtick.labelsize\"] = 16\n",
    "chart1 = sns.barplot(x=\"artist\", y=\"total_plays\", data=results, ax=axes);\n",
    "chart1.set_xticklabels(chart1.get_xticklabels(), rotation=40, horizontalalignment='right');\n",
    "chart1.set_title(\"Top 10 artists from Sparkify dataset: All users\", weight = \"bold\");\n",
    "chart1.set(xlabel=None)"
   ]
  },
  {
   "cell_type": "markdown",
   "metadata": {},
   "source": [
    "### What are the top listening locations from the sparkify data?"
   ]
  },
  {
   "cell_type": "code",
   "execution_count": null,
   "metadata": {},
   "outputs": [],
   "source": [
    "results = pd.read_csv('../queries/listening_locations.csv')\n",
    "# Plot results as a Seaborn barplot (2 subplots)\n",
    "fig, axes = plt.subplots(1, 1)\n",
    "#fig.subplots_adjust(hspace=1)\n",
    "sns.set(style=\"whitegrid\")\n",
    "sns.set(rc={'figure.figsize':(15,5)})\n",
    "sns.set(font_scale = 2)\n",
    "plt.rcParams[\"xtick.labelsize\"] = 16\n",
    "chart1 = sns.barplot(x=\"location\", y=\"total_plays\", data=results, ax=axes);\n",
    "chart1.set_xticklabels(chart1.get_xticklabels(), rotation=40, horizontalalignment='right');\n",
    "chart1.set_title(\"Top 10 User Listening Locations from Sparkify dataset\", weight = \"bold\");\n",
    "chart1.set(xlabel=None)"
   ]
  },
  {
   "cell_type": "markdown",
   "metadata": {},
   "source": [
    "### Check data skewness of the songs table based on its partitioning scheme"
   ]
  },
  {
   "cell_type": "code",
   "execution_count": null,
   "metadata": {},
   "outputs": [],
   "source": [
    "results = pd.read_csv('../queries/songs_skew.csv')\n",
    "with pd.option_context('display.max_rows', None, 'display.max_columns', None):\n",
    "    print(results)"
   ]
  },
  {
   "cell_type": "markdown",
   "metadata": {},
   "source": [
    "### Findings:\n",
    "- 12,600 different partitions based on this scheme. Fairly uneven. Partitioning by just year may have been more even.\n",
    "- All the year \"0\" entries had missing year data."
   ]
  },
  {
   "cell_type": "markdown",
   "metadata": {},
   "source": [
    "### Check data skewness of the time and songplays tables based on their identical partitioning schemes"
   ]
  },
  {
   "cell_type": "code",
   "execution_count": null,
   "metadata": {},
   "outputs": [],
   "source": [
    "results = pd.read_csv('../queries/time_skew.csv')\n",
    "with pd.option_context('display.max_rows', None, 'display.max_columns', None):\n",
    "    print(results)"
   ]
  },
  {
   "cell_type": "markdown",
   "metadata": {},
   "source": [
    "### Findings:\n",
    "- Only one partition for the entire dataset!!\n",
    "- Both time and songplays table were partitioned by year and month"
   ]
  }
 ],
 "metadata": {
  "kernelspec": {
   "display_name": "Python 3",
   "language": "python",
   "name": "python3"
  },
  "language_info": {
   "codemirror_mode": {
    "name": "ipython",
    "version": 3
   },
   "file_extension": ".py",
   "mimetype": "text/x-python",
   "name": "python",
   "nbconvert_exporter": "python",
   "pygments_lexer": "ipython3",
   "version": "3.7.6"
  }
 },
 "nbformat": 4,
 "nbformat_minor": 4
}
